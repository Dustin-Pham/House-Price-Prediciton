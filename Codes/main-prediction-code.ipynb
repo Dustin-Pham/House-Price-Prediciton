{
 "cells": [
  {
   "cell_type": "code",
   "execution_count": 2,
   "id": "241f3229",
   "metadata": {},
   "outputs": [
    {
     "name": "stderr",
     "output_type": "stream",
     "text": [
      "C:\\Users\\dusti\\anaconda3\\lib\\site-packages\\xgboost\\compat.py:36: FutureWarning: pandas.Int64Index is deprecated and will be removed from pandas in a future version. Use pandas.Index with the appropriate dtype instead.\n",
      "  from pandas import MultiIndex, Int64Index\n"
     ]
    }
   ],
   "source": [
    "import datetime\n",
    "import numpy as np\n",
    "import pandas as pd\n",
    "import xgboost as xgb\n",
    "\n",
    "from sklearn import preprocessing\n",
    "from sklearn.ensemble import RandomForestRegressor, GradientBoostingRegressor, ExtraTreesRegressor\n",
    "from sklearn.model_selection import RandomizedSearchCV\n",
    "from sklearn.model_selection import GridSearchCV\n",
    "from sklearn.model_selection import train_test_split\n",
    "from sklearn.model_selection import ShuffleSplit\n",
    "from sklearn.metrics import make_scorer, mean_squared_error\n",
    "from sklearn.kernel_ridge import KernelRidge\n",
    "from sklearn.svm import SVR\n",
    "from sklearn.neighbors import KNeighborsRegressor\n",
    "from scipy.stats import skew"
   ]
  },
  {
   "cell_type": "code",
   "execution_count": 3,
   "id": "18971b7a",
   "metadata": {},
   "outputs": [],
   "source": [
    "train = pd.read_csv('train.csv')\n",
    "test = pd.read_csv('test.csv')"
   ]
  },
  {
   "cell_type": "code",
   "execution_count": 4,
   "id": "9f1b0340",
   "metadata": {},
   "outputs": [],
   "source": [
    "def mean_squared_error_(ground_truth, predictions):\n",
    "    return mean_squared_error(ground_truth, predictions) ** 0.5\n",
    "RMSE = make_scorer(mean_squared_error_, greater_is_better=False) "
   ]
  },
  {
   "cell_type": "code",
   "execution_count": 5,
   "id": "b2f266af",
   "metadata": {},
   "outputs": [],
   "source": [
    "def create_submission(prediction,score):\n",
    "    now = datetime.datetime.now()\n",
    "    sub_file = 'submission_'+str(score)+'_'+str(now.strftime(\"%Y-%m-%d-%H-%M\"))+'.csv'\n",
    "    print ('Creating submission: ', sub_file)\n",
    "    pd.DataFrame({'Id': test['Id'].values, 'SalePrice': prediction}).to_csv(sub_file, index=False)"
   ]
  },
  {
   "cell_type": "code",
   "execution_count": 6,
   "id": "fc1657d4",
   "metadata": {},
   "outputs": [],
   "source": [
    "def data_preprocess(train,test):\n",
    "    outlier_idx = [4,11,13,20,46,66,70,167,178,185,199, 224,261, 309,313,318, 349,412,423,440,454,477,478, 523,540, 581,588,595,654,688, 691, 774, 798, 875, 898,926,970,987,1027,1109, 1169,1182,1239, 1256,1298,1324,1353,1359,1405,1442,1447]\n",
    "    train.drop(train.index[outlier_idx],inplace=True)\n",
    "    all_data = pd.concat((train.loc[:,'MSSubClass':'SaleCondition'],\n",
    "                          test.loc[:,'MSSubClass':'SaleCondition']))"
   ]
  },
  {
   "cell_type": "code",
   "execution_count": 7,
   "id": "c869b675",
   "metadata": {},
   "outputs": [],
   "source": [
    "all_data = pd.concat((train.loc[:,'MSSubClass':'SaleCondition'],\n",
    "                          test.loc[:,'MSSubClass':'SaleCondition']))"
   ]
  },
  {
   "cell_type": "code",
   "execution_count": 8,
   "id": "9804092f",
   "metadata": {},
   "outputs": [],
   "source": [
    "to_delete = ['Alley','FireplaceQu','PoolQC','Fence','MiscFeature']"
   ]
  },
  {
   "cell_type": "code",
   "execution_count": 9,
   "id": "7de79f2c",
   "metadata": {},
   "outputs": [],
   "source": [
    "all_data = all_data.drop(to_delete,axis=1)"
   ]
  },
  {
   "cell_type": "code",
   "execution_count": 10,
   "id": "dd7cc4da",
   "metadata": {},
   "outputs": [],
   "source": [
    "train[\"SalePrice\"] = np.log1p(train[\"SalePrice\"])"
   ]
  },
  {
   "cell_type": "code",
   "execution_count": 11,
   "id": "bbe5668c",
   "metadata": {},
   "outputs": [],
   "source": [
    "numeric_feats = all_data.dtypes[all_data.dtypes != \"object\"].index\n"
   ]
  },
  {
   "cell_type": "code",
   "execution_count": 12,
   "id": "79054058",
   "metadata": {},
   "outputs": [],
   "source": [
    "skewed_feats = train[numeric_feats].apply(lambda x: skew(x.dropna())) #compute skewness"
   ]
  },
  {
   "cell_type": "code",
   "execution_count": 13,
   "id": "31dcc6b2",
   "metadata": {},
   "outputs": [],
   "source": [
    "skewed_feats = skewed_feats[skewed_feats > 0.75]"
   ]
  },
  {
   "cell_type": "code",
   "execution_count": 14,
   "id": "f30ac9e8",
   "metadata": {},
   "outputs": [],
   "source": [
    "skewed_feats = skewed_feats.index"
   ]
  },
  {
   "cell_type": "code",
   "execution_count": 15,
   "id": "10538248",
   "metadata": {},
   "outputs": [],
   "source": [
    "all_data[skewed_feats] = np.log1p(all_data[skewed_feats])"
   ]
  },
  {
   "cell_type": "code",
   "execution_count": 16,
   "id": "6cddd041",
   "metadata": {},
   "outputs": [],
   "source": [
    "all_data = pd.get_dummies(all_data)"
   ]
  },
  {
   "cell_type": "code",
   "execution_count": 17,
   "id": "99a35310",
   "metadata": {},
   "outputs": [],
   "source": [
    "all_data = all_data.fillna(all_data.mean())"
   ]
  },
  {
   "cell_type": "code",
   "execution_count": 18,
   "id": "0a20659c",
   "metadata": {},
   "outputs": [],
   "source": [
    "X_train = all_data[:train.shape[0]]"
   ]
  },
  {
   "cell_type": "code",
   "execution_count": 19,
   "id": "eb7169b5",
   "metadata": {},
   "outputs": [],
   "source": [
    "X_test = all_data[train.shape[0]:]"
   ]
  },
  {
   "cell_type": "code",
   "execution_count": 20,
   "id": "3533ce9c",
   "metadata": {},
   "outputs": [],
   "source": [
    "y = train.SalePrice"
   ]
  },
  {
   "cell_type": "code",
   "execution_count": 21,
   "id": "509cc750",
   "metadata": {},
   "outputs": [],
   "source": [
    "def data_preprocess(train,test):\n",
    "    outlier_idx = [4,11,13,20,46,66,70,167,178,185,199, 224,261, 309,313,318, 349,412,423,440,454,477,478, 523,540, 581,588,595,654,688, 691, 774, 798, 875, 898,926,970,987,1027,1109, 1169,1182,1239, 1256,1298,1324,1353,1359,1405,1442,1447]\n",
    "    train.drop(train.index[outlier_idx],inplace=True)\n",
    "    all_data = pd.concat((train.loc[:,'MSSubClass':'SaleCondition'],\n",
    "                          test.loc[:,'MSSubClass':'SaleCondition']))\n",
    "    \n",
    "    to_delete = ['Alley','FireplaceQu','PoolQC','Fence','MiscFeature']\n",
    "    all_data = all_data.drop(to_delete,axis=1)\n",
    "\n",
    "    train[\"SalePrice\"] = np.log1p(train[\"SalePrice\"])\n",
    "    #log transform skewed numeric features\n",
    "    numeric_feats = all_data.dtypes[all_data.dtypes != \"object\"].index\n",
    "    skewed_feats = train[numeric_feats].apply(lambda x: skew(x.dropna())) #compute skewness\n",
    "    skewed_feats = skewed_feats[skewed_feats > 0.75]\n",
    "    skewed_feats = skewed_feats.index\n",
    "    all_data[skewed_feats] = np.log1p(all_data[skewed_feats])\n",
    "    all_data = pd.get_dummies(all_data)\n",
    "    all_data = all_data.fillna(all_data.mean())\n",
    "    X_train = all_data[:train.shape[0]]\n",
    "    X_test = all_data[train.shape[0]:]\n",
    "    y = train.SalePrice\n",
    "\n",
    "    return X_train,X_test,y"
   ]
  },
  {
   "cell_type": "code",
   "execution_count": 22,
   "id": "ad7e5566",
   "metadata": {},
   "outputs": [],
   "source": [
    "def model_random_forecast(Xtrain,Xtest,ytrain):\n",
    "    \n",
    "    X_train = Xtrain\n",
    "    y_train = ytrain\n",
    "    rfr = RandomForestRegressor(n_jobs=1, random_state=0)\n",
    "    param_grid = {}#'n_estimators': [500], 'max_features': [10,15,20,25], 'max_depth':[3,5,7,9,11]}\n",
    "    model = GridSearchCV(estimator=rfr, param_grid=param_grid, n_jobs=1, cv=10, scoring=RMSE)\n",
    "    model.fit(X_train, y_train)\n",
    "    print('Random forecast regression...')\n",
    "    print('Best Params:')\n",
    "    print(model.best_params_)\n",
    "    print('Best CV Score:')\n",
    "    print(-model.best_score_)\n",
    "\n",
    "    y_pred = model.predict(Xtest)\n",
    "    return y_pred, -model.best_score_"
   ]
  },
  {
   "cell_type": "code",
   "execution_count": 23,
   "id": "9197d92e",
   "metadata": {},
   "outputs": [],
   "source": [
    "def model_gradient_boosting_tree(Xtrain,Xtest,ytrain):\n",
    "    \n",
    "    X_train = Xtrain\n",
    "    y_train = ytrain \n",
    "    gbr = GradientBoostingRegressor(random_state=0)\n",
    "    param_grid = {}\n",
    "    model = GridSearchCV(estimator=gbr, param_grid=param_grid, n_jobs=1, cv=10, scoring=RMSE)\n",
    "    model.fit(X_train, y_train)\n",
    "    print('Gradient boosted tree regression...')\n",
    "    print('Best Params:')\n",
    "    print(model.best_params_)\n",
    "    print('Best CV Score:')\n",
    "    print(-model.best_score_)\n",
    "    \n",
    "    y_pred = model.predict(Xtest)\n",
    "    return y_pred, -model.best_score_"
   ]
  },
  {
   "cell_type": "code",
   "execution_count": 24,
   "id": "091fd457",
   "metadata": {},
   "outputs": [],
   "source": [
    "def model_xgb_regression(Xtrain,Xtest,ytrain):\n",
    "    \n",
    "    X_train = Xtrain\n",
    "    y_train = ytrain \n",
    "    \n",
    "    xgbreg = xgb.XGBRegressor(seed=0)\n",
    "    param_grid = {}\n",
    "    model = GridSearchCV(estimator=xgbreg, param_grid=param_grid, n_jobs=1, cv=10, scoring=RMSE)\n",
    "    model.fit(X_train, y_train)\n",
    "    print('eXtreme Gradient Boosting regression...')\n",
    "    print('Best Params:')\n",
    "    print(model.best_params_)\n",
    "    print('Best CV Score:')\n",
    "    print(-model.best_score_)\n",
    "\n",
    "    y_pred = model.predict(Xtest)\n",
    "    return y_pred, -model.best_score_"
   ]
  },
  {
   "cell_type": "code",
   "execution_count": 25,
   "id": "c7a4764d",
   "metadata": {},
   "outputs": [],
   "source": [
    "def model_extra_trees_regression(Xtrain,Xtest,ytrain):\n",
    "    \n",
    "    X_train = Xtrain\n",
    "    y_train = ytrain\n",
    "    \n",
    "    etr = ExtraTreesRegressor(n_jobs=1, random_state=0)\n",
    "    param_grid = {}\n",
    "    model = GridSearchCV(estimator=etr, param_grid=param_grid, n_jobs=1, cv=10, scoring=RMSE)\n",
    "    model.fit(X_train, y_train)\n",
    "    print('Extra trees regression...')\n",
    "    print('Best Params:')\n",
    "    print(model.best_params_)\n",
    "    print('Best CV Score:')\n",
    "    print(-model.best_score_)\n",
    "\n",
    "    y_pred = model.predict(Xtest)\n",
    "    return y_pred, -model.best_score_"
   ]
  },
  {
   "cell_type": "code",
   "execution_count": 26,
   "id": "5e743a89",
   "metadata": {},
   "outputs": [
    {
     "name": "stdout",
     "output_type": "stream",
     "text": [
      "Extra trees regression...\n",
      "Best Params:\n",
      "{}\n",
      "Best CV Score:\n",
      "0.13047508930290927\n",
      "Creating submission:  submission_0.13047508930290927_2022-08-16-11-51.csv\n"
     ]
    }
   ],
   "source": [
    "# read data, build model and do prediction\n",
    "train = pd.read_csv(\"train.csv\") # read train data\n",
    "test = pd.read_csv(\"test.csv\") # read test data\n",
    "Xtrain,Xtest,ytrain = data_preprocess(train,test)\n",
    "\n",
    "\n",
    "#test_predict,score = model_random_forecast(Xtrain,Xtest,ytrain)\n",
    "#test_predict,score = model_xgb_regression(Xtrain,Xtest,ytrain)\n",
    "test_predict,score = model_extra_trees_regression(Xtrain,Xtest,ytrain)\n",
    "#test_predict,score = model_gradient_boosting_tree(Xtrain,Xtest,ytrain)\n",
    "\n",
    "create_submission(np.exp(test_predict),score)"
   ]
  },
  {
   "cell_type": "code",
   "execution_count": 27,
   "id": "1478dd23",
   "metadata": {},
   "outputs": [
    {
     "name": "stdout",
     "output_type": "stream",
     "text": [
      "Random forecast regression...\n",
      "Best Params:\n",
      "{}\n",
      "Best CV Score:\n",
      "0.13068612620806924\n",
      "Creating submission:  submission_0.13068612620806924_2022-08-16-11-51.csv\n"
     ]
    }
   ],
   "source": [
    "train = pd.read_csv(\"train.csv\") # read train data\n",
    "test = pd.read_csv(\"test.csv\") # read test data\n",
    "Xtrain,Xtest,ytrain = data_preprocess(train,test)\n",
    "\n",
    "\n",
    "test_predict,score = model_random_forecast(Xtrain,Xtest,ytrain)\n",
    "#test_predict,score = model_xgb_regression(Xtrain,Xtest,ytrain)\n",
    "#test_predict,score = model_extra_trees_regression(Xtrain,Xtest,ytrain)\n",
    "#test_predict,score = model_gradient_boosting_tree(Xtrain,Xtest,ytrain)\n",
    "\n",
    "create_submission(np.exp(test_predict),score)"
   ]
  },
  {
   "cell_type": "code",
   "execution_count": 28,
   "id": "c3e567ad",
   "metadata": {},
   "outputs": [
    {
     "name": "stderr",
     "output_type": "stream",
     "text": [
      "C:\\Users\\dusti\\anaconda3\\lib\\site-packages\\xgboost\\data.py:262: FutureWarning: pandas.Int64Index is deprecated and will be removed from pandas in a future version. Use pandas.Index with the appropriate dtype instead.\n",
      "  elif isinstance(data.columns, (pd.Int64Index, pd.RangeIndex)):\n",
      "C:\\Users\\dusti\\anaconda3\\lib\\site-packages\\xgboost\\data.py:262: FutureWarning: pandas.Int64Index is deprecated and will be removed from pandas in a future version. Use pandas.Index with the appropriate dtype instead.\n",
      "  elif isinstance(data.columns, (pd.Int64Index, pd.RangeIndex)):\n",
      "C:\\Users\\dusti\\anaconda3\\lib\\site-packages\\xgboost\\data.py:262: FutureWarning: pandas.Int64Index is deprecated and will be removed from pandas in a future version. Use pandas.Index with the appropriate dtype instead.\n",
      "  elif isinstance(data.columns, (pd.Int64Index, pd.RangeIndex)):\n",
      "C:\\Users\\dusti\\anaconda3\\lib\\site-packages\\xgboost\\data.py:262: FutureWarning: pandas.Int64Index is deprecated and will be removed from pandas in a future version. Use pandas.Index with the appropriate dtype instead.\n",
      "  elif isinstance(data.columns, (pd.Int64Index, pd.RangeIndex)):\n",
      "C:\\Users\\dusti\\anaconda3\\lib\\site-packages\\xgboost\\data.py:262: FutureWarning: pandas.Int64Index is deprecated and will be removed from pandas in a future version. Use pandas.Index with the appropriate dtype instead.\n",
      "  elif isinstance(data.columns, (pd.Int64Index, pd.RangeIndex)):\n",
      "C:\\Users\\dusti\\anaconda3\\lib\\site-packages\\xgboost\\data.py:262: FutureWarning: pandas.Int64Index is deprecated and will be removed from pandas in a future version. Use pandas.Index with the appropriate dtype instead.\n",
      "  elif isinstance(data.columns, (pd.Int64Index, pd.RangeIndex)):\n",
      "C:\\Users\\dusti\\anaconda3\\lib\\site-packages\\xgboost\\data.py:262: FutureWarning: pandas.Int64Index is deprecated and will be removed from pandas in a future version. Use pandas.Index with the appropriate dtype instead.\n",
      "  elif isinstance(data.columns, (pd.Int64Index, pd.RangeIndex)):\n",
      "C:\\Users\\dusti\\anaconda3\\lib\\site-packages\\xgboost\\data.py:262: FutureWarning: pandas.Int64Index is deprecated and will be removed from pandas in a future version. Use pandas.Index with the appropriate dtype instead.\n",
      "  elif isinstance(data.columns, (pd.Int64Index, pd.RangeIndex)):\n",
      "C:\\Users\\dusti\\anaconda3\\lib\\site-packages\\xgboost\\data.py:262: FutureWarning: pandas.Int64Index is deprecated and will be removed from pandas in a future version. Use pandas.Index with the appropriate dtype instead.\n",
      "  elif isinstance(data.columns, (pd.Int64Index, pd.RangeIndex)):\n",
      "C:\\Users\\dusti\\anaconda3\\lib\\site-packages\\xgboost\\data.py:262: FutureWarning: pandas.Int64Index is deprecated and will be removed from pandas in a future version. Use pandas.Index with the appropriate dtype instead.\n",
      "  elif isinstance(data.columns, (pd.Int64Index, pd.RangeIndex)):\n",
      "C:\\Users\\dusti\\anaconda3\\lib\\site-packages\\xgboost\\data.py:262: FutureWarning: pandas.Int64Index is deprecated and will be removed from pandas in a future version. Use pandas.Index with the appropriate dtype instead.\n",
      "  elif isinstance(data.columns, (pd.Int64Index, pd.RangeIndex)):\n"
     ]
    },
    {
     "name": "stdout",
     "output_type": "stream",
     "text": [
      "eXtreme Gradient Boosting regression...\n",
      "Best Params:\n",
      "{}\n",
      "Best CV Score:\n",
      "0.1264339883252158\n",
      "Creating submission:  submission_0.1264339883252158_2022-08-16-11-51.csv\n"
     ]
    }
   ],
   "source": [
    "train = pd.read_csv(\"train.csv\") # read train data\n",
    "test = pd.read_csv(\"test.csv\") # read test data\n",
    "Xtrain,Xtest,ytrain = data_preprocess(train,test)\n",
    "\n",
    "\n",
    "#test_predict,score = model_random_forecast(Xtrain,Xtest,ytrain)\n",
    "test_predict,score = model_xgb_regression(Xtrain,Xtest,ytrain)\n",
    "#test_predict,score = model_extra_trees_regression(Xtrain,Xtest,ytrain)\n",
    "#test_predict,score = model_gradient_boosting_tree(Xtrain,Xtest,ytrain)\n",
    "\n",
    "create_submission(np.exp(test_predict),score)"
   ]
  },
  {
   "cell_type": "code",
   "execution_count": 29,
   "id": "a1f4f473",
   "metadata": {},
   "outputs": [
    {
     "name": "stdout",
     "output_type": "stream",
     "text": [
      "Gradient boosted tree regression...\n",
      "Best Params:\n",
      "{}\n",
      "Best CV Score:\n",
      "0.11299763387193003\n",
      "Creating submission:  submission_0.11299763387193003_2022-08-16-11-51.csv\n"
     ]
    }
   ],
   "source": [
    "train = pd.read_csv(\"train.csv\") # read train data\n",
    "test = pd.read_csv(\"test.csv\") # read test data\n",
    "Xtrain,Xtest,ytrain = data_preprocess(train,test)\n",
    "\n",
    "\n",
    "#test_predict,score = model_random_forecast(Xtrain,Xtest,ytrain)\n",
    "#test_predict,score = model_xgb_regression(Xtrain,Xtest,ytrain)\n",
    "#test_predict,score = model_extra_trees_regression(Xtrain,Xtest,ytrain)\n",
    "test_predict,score = model_gradient_boosting_tree(Xtrain,Xtest,ytrain)\n",
    "\n",
    "create_submission(np.exp(test_predict),score)"
   ]
  },
  {
   "cell_type": "code",
   "execution_count": null,
   "id": "69dfd5d3",
   "metadata": {},
   "outputs": [],
   "source": [
    "xgb_regression = pd.read_csv(\"XGB Regression Price Prediction.csv\")\n",
    "\n",
    "print ('read file!')"
   ]
  },
  {
   "cell_type": "code",
   "execution_count": 33,
   "id": "9838fd35",
   "metadata": {},
   "outputs": [
    {
     "name": "stdout",
     "output_type": "stream",
     "text": [
      "matplotlib version 3.5.1\n"
     ]
    }
   ],
   "source": [
    "%matplotlib inline \n",
    "\n",
    "import matplotlib as mpl\n",
    "import matplotlib.pyplot as plt\n",
    "\n",
    "from matplotlib import pyplot as plt\n",
    "\n",
    "mpl.style.use('ggplot')\n",
    "\n",
    "print ('matplotlib version', mpl.__version__)"
   ]
  },
  {
   "cell_type": "code",
   "execution_count": 38,
   "id": "817cbd0f",
   "metadata": {},
   "outputs": [],
   "source": [
    "xgb_regression.set_index('Id', inplace = True)"
   ]
  },
  {
   "cell_type": "code",
   "execution_count": 39,
   "id": "5492810d",
   "metadata": {},
   "outputs": [
    {
     "data": {
      "text/plain": [
       "Text(0, 0.5, 'Price')"
      ]
     },
     "execution_count": 39,
     "metadata": {},
     "output_type": "execute_result"
    },
    {
     "data": {
      "image/png": "[encoded data removed]",
      "text/plain": [
       "<Figure size 576x432 with 1 Axes>"
      ]
     },
     "metadata": {},
     "output_type": "display_data"
    }
   ],
   "source": [
    "xgb_regression_fig = xgb_regression.plot(kind='box', figsize =(8,6))\n",
    "\n",
    "plt.title('XGB Regression House Prediction')\n",
    "plt.ylabel('Price')\n"
   ]
  },
  {
   "cell_type": "code",
   "execution_count": 40,
   "id": "3f19e03e",
   "metadata": {},
   "outputs": [
    {
     "data": {
      "text/html": [
       "<div>\n",
       "<style scoped>\n",
       "    .dataframe tbody tr th:only-of-type {\n",
       "        vertical-align: middle;\n",
       "    }\n",
       "\n",
       "    .dataframe tbody tr th {\n",
       "        vertical-align: top;\n",
       "    }\n",
       "\n",
       "    .dataframe thead th {\n",
       "        text-align: right;\n",
       "    }\n",
       "</style>\n",
       "<table border=\"1\" class=\"dataframe\">\n",
       "  <thead>\n",
       "    <tr style=\"text-align: right;\">\n",
       "      <th></th>\n",
       "      <th>SalePrice</th>\n",
       "    </tr>\n",
       "    <tr>\n",
       "      <th>Id</th>\n",
       "      <th></th>\n",
       "    </tr>\n",
       "  </thead>\n",
       "  <tbody>\n",
       "    <tr>\n",
       "      <th>1461</th>\n",
       "      <td>123258.05</td>\n",
       "    </tr>\n",
       "    <tr>\n",
       "      <th>1462</th>\n",
       "      <td>161888.52</td>\n",
       "    </tr>\n",
       "    <tr>\n",
       "      <th>1463</th>\n",
       "      <td>178061.42</td>\n",
       "    </tr>\n",
       "    <tr>\n",
       "      <th>1464</th>\n",
       "      <td>189446.72</td>\n",
       "    </tr>\n",
       "    <tr>\n",
       "      <th>1465</th>\n",
       "      <td>185209.69</td>\n",
       "    </tr>\n",
       "  </tbody>\n",
       "</table>\n",
       "</div>"
      ],
      "text/plain": [
       "      SalePrice\n",
       "Id             \n",
       "1461  123258.05\n",
       "1462  161888.52\n",
       "1463  178061.42\n",
       "1464  189446.72\n",
       "1465  185209.69"
      ]
     },
     "execution_count": 40,
     "metadata": {},
     "output_type": "execute_result"
    }
   ],
   "source": [
    "xgb_regression.head()"
   ]
  },
  {
   "cell_type": "code",
   "execution_count": 42,
   "id": "4e12fdfe",
   "metadata": {},
   "outputs": [
    {
     "name": "stdout",
     "output_type": "stream",
     "text": [
      "saved figure\n"
     ]
    }
   ],
   "source": [
    "xgb_regression_fig.figure.savefig('XGB Regression House Prediction')\n",
    "\n",
    "print('saved figure')"
   ]
  },
  {
   "cell_type": "code",
   "execution_count": null,
   "id": "94ca6265",
   "metadata": {},
   "outputs": [],
   "source": []
  }
 ],
 "metadata": {
  "kernelspec": {
   "display_name": "Python 3 (ipykernel)",
   "language": "python",
   "name": "python3"
  },
  "language_info": {
   "codemirror_mode": {
    "name": "ipython",
    "version": 3
   },
   "file_extension": ".py",
   "mimetype": "text/x-python",
   "name": "python",
   "nbconvert_exporter": "python",
   "pygments_lexer": "ipython3",
   "version": "3.9.12"
  }
 },
 "nbformat": 4,
 "nbformat_minor": 5
}
