{
 "cells": [
  {
   "cell_type": "code",
   "execution_count": 1,
   "id": "b46e0d0c",
   "metadata": {},
   "outputs": [
    {
     "name": "stderr",
     "output_type": "stream",
     "text": [
      "C:\\Users\\dusti\\anaconda3\\lib\\site-packages\\xgboost\\compat.py:36: FutureWarning: pandas.Int64Index is deprecated and will be removed from pandas in a future version. Use pandas.Index with the appropriate dtype instead.\n",
      "  from pandas import MultiIndex, Int64Index\n"
     ]
    }
   ],
   "source": [
    "import datetime\n",
    "import time\n",
    "import numpy as np\n",
    "import pandas as pd\n",
    "import xgboost as xgb\n",
    "\n",
    "from sklearn import datasets, ensemble\n",
    "from sklearn.inspection import permutation_importance\n",
    "from sklearn.model_selection import StratifiedKFold\n",
    "from sklearn.model_selection import KFold\n",
    "from sklearn import preprocessing\n",
    "from sklearn.ensemble import RandomForestRegressor, GradientBoostingRegressor, ExtraTreesRegressor\n",
    "from sklearn.model_selection import RandomizedSearchCV\n",
    "from sklearn.model_selection import GridSearchCV\n",
    "from sklearn.model_selection import train_test_split\n",
    "from sklearn.model_selection import ShuffleSplit\n",
    "from sklearn.metrics import make_scorer, mean_squared_error\n",
    "from sklearn.kernel_ridge import KernelRidge\n",
    "from sklearn.linear_model import LassoCV\n",
    "from sklearn.linear_model import LassoLarsCV\n",
    "from sklearn.linear_model import ElasticNet\n",
    "from sklearn.linear_model import Ridge\n",
    "from sklearn.svm import SVR\n",
    "from sklearn.neighbors import KNeighborsRegressor\n",
    "from scipy.stats import skew\n",
    "from xgboost import XGBRegressor\n"
   ]
  },
  {
   "cell_type": "code",
   "execution_count": 2,
   "id": "a06124b7",
   "metadata": {},
   "outputs": [],
   "source": [
    "def create_submission(prediction,score):\n",
    "    now = datetime.datetime.now()\n",
    "    sub_file = 'submission_'+str(score)+'_'+str(now.strftime(\"%Y-%m-%d-%H-%M\"))+'.csv'\n",
    "    #sub_file = 'prediction_training.csv'\n",
    "    print ('Creating submission: ', sub_file)\n",
    "    pd.DataFrame({'Id': test['Id'].values, 'SalePrice': prediction}).to_csv(sub_file, index=False)"
   ]
  },
  {
   "cell_type": "code",
   "execution_count": 3,
   "id": "0ca693fd",
   "metadata": {},
   "outputs": [],
   "source": [
    "# train need to be test when do test prediction\n",
    "def data_preprocess(train,test):\n",
    "    outlier_idx = [4,11,13,20,46,66,70,167,178,185,199, 224,261, 309,313,318, 349,412,423,440,454,477,478, 523,540, 581,588,595,654,688, 691, 774, 798, 875, 898,926,970,987,1027,1109, 1169,1182,1239, 1256,1298,1324,1353,1359,1405,1442,1447]\n",
    "    train.drop(train.index[outlier_idx],inplace=True)\n",
    "    all_data = pd.concat((train.loc[:,'MSSubClass':'SaleCondition'],\n",
    "                          test.loc[:,'MSSubClass':'SaleCondition']))\n",
    "    \n",
    "    to_delete = ['Alley','FireplaceQu','PoolQC','Fence','MiscFeature']\n",
    "    all_data = all_data.drop(to_delete,axis=1)\n",
    "\n",
    "    train[\"SalePrice\"] = np.log1p(train[\"SalePrice\"])\n",
    "    #log transform skewed numeric features\n",
    "    numeric_feats = all_data.dtypes[all_data.dtypes != \"object\"].index\n",
    "    skewed_feats = train[numeric_feats].apply(lambda x: skew(x.dropna())) #compute skewness\n",
    "    skewed_feats = skewed_feats[skewed_feats > 0.75]\n",
    "    skewed_feats = skewed_feats.index\n",
    "    all_data[skewed_feats] = np.log1p(all_data[skewed_feats])\n",
    "    all_data = pd.get_dummies(all_data)\n",
    "    all_data = all_data.fillna(all_data.mean())\n",
    "    X_train = all_data[:train.shape[0]]\n",
    "    X_test = all_data[train.shape[0]:]\n",
    "    y = train.SalePrice\n",
    "\n",
    "    return X_train,X_test,y"
   ]
  },
  {
   "cell_type": "code",
   "execution_count": 4,
   "id": "ae846036",
   "metadata": {},
   "outputs": [],
   "source": [
    "def mean_squared_error_(ground_truth, predictions):\n",
    "    return mean_squared_error(ground_truth, predictions) ** 0.5\n",
    "RMSE = make_scorer(mean_squared_error_, greater_is_better=False)\n"
   ]
  },
  {
   "cell_type": "code",
   "execution_count": 30,
   "id": "36532c6a",
   "metadata": {},
   "outputs": [],
   "source": [
    "class ensemble(object):\n",
    "    def __init__(self, n_split, stacker, base_models):\n",
    "        self.n_splits = n_splits\n",
    "        self.stacker = stacker\n",
    "        self.base_models = base_models\n",
    "        n_splits=5\n",
    "    def fit_predict(self,train,test,ytr):\n",
    "        X = train.values\n",
    "        y = ytr.values\n",
    "        T = test.values\n",
    "        splits = list(KFold(len(y), n_splits = self.n_splits, shuffle = True, random_state = 0))\n",
    "        S_train = np.zeros((X.shape[0],len(self.base_models)))\n",
    "        S_test = np.zeros((T.shape[0],len(self.base_models))) \n",
    "        for i,reg in enumerate(base_models):\n",
    "            print (\"Fitting the base model...\")\n",
    "            S_test_i = np.zeros((T.shape[0],len(splits))) \n",
    "            for j, (train_idx,test_idx) in enumerate(splits):\n",
    "                X_train = X[train_idx]\n",
    "                y_train = y[train_idx]\n",
    "                X_holdout = X[test_idx]\n",
    "                reg.fit(X_train,y_train)\n",
    "                y_pred = reg.predict(X_holdout)[:]\n",
    "                S_train[test_idx,i] = y_pred\n",
    "                S_test_i[:,j] = reg.predict(T)[:]\n",
    "            S_test[:,i] = S_test_i.mean(1)\n",
    "            \n",
    "            print (\"Stacking base models...\")\n",
    "        # tuning the stacker\n",
    "        param_grid = {\n",
    "            'alpha': [1e-3,5e-3,1e-2,5e-2,1e-1,0.2,0.3,0.4,0.5,0.8,1e0,3,5,7,1e1],\n",
    "        }\n",
    "        grid = GridSearchCV(estimator=self.stacker, param_grid=param_grid, n_jobs=1, cv=5, scoring=RMSE)\n",
    "        grid.fit(S_train, y)\n",
    "        try:\n",
    "            print('Param grid:')\n",
    "            print(param_grid)\n",
    "            print('Best Params:')\n",
    "            print(grid.best_params_)\n",
    "            print('Best CV Score:')\n",
    "            print(-grid.best_score_)\n",
    "            print('Best estimator:')\n",
    "            print(grid.best_estimator_)\n",
    "            print(message)\n",
    "        except:\n",
    "            pass\n",
    "        y_pred = grid.predict(S_test)[:]\n",
    "        return y_pred, -grid.best_score_"
   ]
  },
  {
   "cell_type": "code",
   "execution_count": 31,
   "id": "a15ff0e7",
   "metadata": {},
   "outputs": [],
   "source": [
    "train = pd.read_csv(\"train.csv\")\n",
    "test = pd.read_csv(\"test.csv\")"
   ]
  },
  {
   "cell_type": "code",
   "execution_count": 32,
   "id": "d1c79c7c",
   "metadata": {},
   "outputs": [],
   "source": [
    "base_models = [\n",
    "    RandomForestRegressor(\n",
    "        n_jobs=1, random_state=0,\n",
    "        n_estimators=500, max_features=14\n",
    "    ),\n",
    "    RandomForestRegressor(\n",
    "        n_jobs=1, random_state=0,\n",
    "        n_estimators=500, max_features=20,\n",
    "        max_depth = 7\n",
    "    ),\n",
    "    ExtraTreesRegressor(\n",
    "        n_jobs=1, random_state=0, \n",
    "        n_estimators=500, max_features=15\n",
    "    ),\n",
    "    ExtraTreesRegressor(\n",
    "        n_jobs=1, random_state=0, \n",
    "        n_estimators=500, max_features=20\n",
    "    ),\n",
    "    GradientBoostingRegressor(\n",
    "        random_state=0, \n",
    "        n_estimators=500, max_features=10, max_depth=6,\n",
    "        learning_rate=0.05, subsample=0.8\n",
    "    ),\n",
    "    GradientBoostingRegressor(\n",
    "        random_state=0, \n",
    "        n_estimators=500, max_features=15, max_depth=6,\n",
    "        learning_rate=0.05, subsample=0.8\n",
    "    ),\n",
    "    XGBRegressor(\n",
    "        seed=0,\n",
    "        n_estimators=500, max_depth=10,\n",
    "        learning_rate=0.05, subsample=0.8, colsample_bytree=0.75\n",
    "    ),\n",
    "    XGBRegressor(\n",
    "        seed=0,\n",
    "        n_estimators=500, max_depth=7,\n",
    "        learning_rate=0.05, subsample=0.8, colsample_bytree=0.75\n",
    "    ),\n",
    "    LassoCV(alphas = [1, 0.1, 0.001, 0.0005]),\n",
    "    KNeighborsRegressor(n_neighbors = 5),\n",
    "    KNeighborsRegressor(n_neighbors = 10),\n",
    "    KNeighborsRegressor(n_neighbors = 15),\n",
    "    KNeighborsRegressor(n_neighbors = 25),\n",
    "    LassoLarsCV(),\n",
    "    ElasticNet(),\n",
    "    SVR()\n",
    "]\n"
   ]
  },
  {
   "cell_type": "code",
   "execution_count": 33,
   "id": "a3f29c6f",
   "metadata": {},
   "outputs": [
    {
     "ename": "TypeError",
     "evalue": "__init__() got an unexpected keyword argument 'n_splits'",
     "output_type": "error",
     "traceback": [
      "\u001b[1;31m---------------------------------------------------------------------------\u001b[0m",
      "\u001b[1;31mTypeError\u001b[0m                                 Traceback (most recent call last)",
      "Input \u001b[1;32mIn [33]\u001b[0m, in \u001b[0;36m<cell line: 1>\u001b[1;34m()\u001b[0m\n\u001b[1;32m----> 1\u001b[0m ensem \u001b[38;5;241m=\u001b[39m \u001b[43mensemble\u001b[49m\u001b[43m(\u001b[49m\n\u001b[0;32m      2\u001b[0m \u001b[43m    \u001b[49m\u001b[43mn_splits\u001b[49m\u001b[38;5;241;43m=\u001b[39;49m\u001b[38;5;241;43m5\u001b[39;49m\u001b[43m,\u001b[49m\n\u001b[0;32m      3\u001b[0m \u001b[43m    \u001b[49m\u001b[43mstacker\u001b[49m\u001b[38;5;241;43m=\u001b[39;49m\u001b[43mRidge\u001b[49m\u001b[43m(\u001b[49m\u001b[43m)\u001b[49m\u001b[43m,\u001b[49m\n\u001b[0;32m      4\u001b[0m \u001b[43m    \u001b[49m\u001b[43mbase_models\u001b[49m\u001b[38;5;241;43m=\u001b[39;49m\u001b[43mbase_models\u001b[49m\n\u001b[0;32m      5\u001b[0m \u001b[43m)\u001b[49m\n\u001b[0;32m      7\u001b[0m X_train,X_test,y_train \u001b[38;5;241m=\u001b[39m data_preprocess(train,test)\n\u001b[0;32m      8\u001b[0m y_pred, score \u001b[38;5;241m=\u001b[39m ensem\u001b[38;5;241m.\u001b[39mfit_predict(X_train,X_test,y_train)\n",
      "\u001b[1;31mTypeError\u001b[0m: __init__() got an unexpected keyword argument 'n_splits'"
     ]
    }
   ],
   "source": [
    "ensem = ensemble(\n",
    "    n_splits=5,\n",
    "    stacker=Ridge(),\n",
    "    base_models=base_models\n",
    ")\n",
    "\n",
    "X_train,X_test,y_train = data_preprocess(train,test)\n",
    "y_pred, score = ensem.fit_predict(X_train,X_test,y_train)\n",
    "\n",
    "create_submission(np.expm1(y_pred),score)"
   ]
  },
  {
   "cell_type": "code",
   "execution_count": null,
   "id": "b146d404",
   "metadata": {},
   "outputs": [],
   "source": []
  },
  {
   "cell_type": "code",
   "execution_count": null,
   "id": "fec4675f",
   "metadata": {},
   "outputs": [],
   "source": []
  }
 ],
 "metadata": {
  "kernelspec": {
   "display_name": "Python 3 (ipykernel)",
   "language": "python",
   "name": "python3"
  },
  "language_info": {
   "codemirror_mode": {
    "name": "ipython",
    "version": 3
   },
   "file_extension": ".py",
   "mimetype": "text/x-python",
   "name": "python",
   "nbconvert_exporter": "python",
   "pygments_lexer": "ipython3",
   "version": "3.9.12"
  }
 },
 "nbformat": 4,
 "nbformat_minor": 5
}
